{
 "cells": [
  {
   "cell_type": "code",
   "execution_count": 1,
   "id": "ee00016f",
   "metadata": {},
   "outputs": [],
   "source": [
    "#!pip install h2o"
   ]
  },
  {
   "cell_type": "code",
   "execution_count": 2,
   "id": "3452897f",
   "metadata": {},
   "outputs": [],
   "source": [
    "import warnings\n",
    "warnings.filterwarnings('ignore')\n",
    "\n",
    "import pandas as pd\n",
    "import numpy as np\n",
    "\n",
    "import pylab as plt\n",
    "import seaborn as sns\n",
    "\n",
    "%matplotlib inline\n",
    "\n",
    "pd.set_option('display.max_columns', None)\n",
    "from sklearn.metrics import mean_squared_error as mse"
   ]
  },
  {
   "cell_type": "code",
   "execution_count": 3,
   "id": "326c84d9",
   "metadata": {},
   "outputs": [],
   "source": [
    "rbnb = pd.read_csv('../data/train.csv')\n",
    "rbnb_test = pd.read_csv('../data/test.csv')"
   ]
  },
  {
   "cell_type": "markdown",
   "id": "53444e5d",
   "metadata": {},
   "source": [
    "# H2O"
   ]
  },
  {
   "cell_type": "markdown",
   "id": "190e19a1",
   "metadata": {},
   "source": [
    "## Entreno el modelo"
   ]
  },
  {
   "cell_type": "code",
   "execution_count": 4,
   "id": "72e6d42c",
   "metadata": {},
   "outputs": [
    {
     "data": {
      "text/plain": [
       "((3333, 74), (834, 74))"
      ]
     },
     "execution_count": 4,
     "metadata": {},
     "output_type": "execute_result"
    }
   ],
   "source": [
    "\n",
    "from sklearn.model_selection import train_test_split as tts\n",
    "\n",
    "\n",
    "train, test = tts(rbnb, test_size=.2, random_state=42)\n",
    "\n",
    "train.shape, test.shape"
   ]
  },
  {
   "cell_type": "code",
   "execution_count": 5,
   "id": "18723652",
   "metadata": {},
   "outputs": [],
   "source": [
    "import h2o\n",
    "from h2o.automl import H2OAutoML"
   ]
  },
  {
   "cell_type": "code",
   "execution_count": 6,
   "id": "d683c2ae",
   "metadata": {},
   "outputs": [
    {
     "name": "stdout",
     "output_type": "stream",
     "text": [
      "Checking whether there is an H2O instance running at http://localhost:54321 ..... not found.\n",
      "Attempting to start a local H2O server...\n",
      "; Java HotSpot(TM) 64-Bit Server VM (build 18.0.1.1+2-6, mixed mode, sharing)\n",
      "  Starting server from C:\\Users\\usuario\\.conda\\envs\\clase\\Lib\\site-packages\\h2o\\backend\\bin\\h2o.jar\n",
      "  Ice root: C:\\Users\\usuario\\AppData\\Local\\Temp\\tmpw71af839\n",
      "  JVM stdout: C:\\Users\\usuario\\AppData\\Local\\Temp\\tmpw71af839\\h2o_usuario_started_from_python.out\n",
      "  JVM stderr: C:\\Users\\usuario\\AppData\\Local\\Temp\\tmpw71af839\\h2o_usuario_started_from_python.err\n",
      "  Server is running at http://127.0.0.1:54321\n",
      "Connecting to H2O server at http://127.0.0.1:54321 ... successful.\n"
     ]
    },
    {
     "data": {
      "text/html": [
       "<div style=\"overflow:auto\"><table style=\"width:50%\"><tr><td>H2O_cluster_uptime:</td>\n",
       "<td>01 secs</td></tr>\n",
       "<tr><td>H2O_cluster_timezone:</td>\n",
       "<td>Europe/Madrid</td></tr>\n",
       "<tr><td>H2O_data_parsing_timezone:</td>\n",
       "<td>UTC</td></tr>\n",
       "<tr><td>H2O_cluster_version:</td>\n",
       "<td>3.36.1.1</td></tr>\n",
       "<tr><td>H2O_cluster_version_age:</td>\n",
       "<td>25 days </td></tr>\n",
       "<tr><td>H2O_cluster_name:</td>\n",
       "<td>H2O_from_python_usuario_e7m3js</td></tr>\n",
       "<tr><td>H2O_cluster_total_nodes:</td>\n",
       "<td>1</td></tr>\n",
       "<tr><td>H2O_cluster_free_memory:</td>\n",
       "<td>2.924 Gb</td></tr>\n",
       "<tr><td>H2O_cluster_total_cores:</td>\n",
       "<td>8</td></tr>\n",
       "<tr><td>H2O_cluster_allowed_cores:</td>\n",
       "<td>8</td></tr>\n",
       "<tr><td>H2O_cluster_status:</td>\n",
       "<td>locked, healthy</td></tr>\n",
       "<tr><td>H2O_connection_url:</td>\n",
       "<td>http://127.0.0.1:54321</td></tr>\n",
       "<tr><td>H2O_connection_proxy:</td>\n",
       "<td>{\"http\": null, \"https\": null}</td></tr>\n",
       "<tr><td>H2O_internal_security:</td>\n",
       "<td>False</td></tr>\n",
       "<tr><td>Python_version:</td>\n",
       "<td>3.9.7 final</td></tr></table></div>"
      ],
      "text/plain": [
       "--------------------------  ------------------------------\n",
       "H2O_cluster_uptime:         01 secs\n",
       "H2O_cluster_timezone:       Europe/Madrid\n",
       "H2O_data_parsing_timezone:  UTC\n",
       "H2O_cluster_version:        3.36.1.1\n",
       "H2O_cluster_version_age:    25 days\n",
       "H2O_cluster_name:           H2O_from_python_usuario_e7m3js\n",
       "H2O_cluster_total_nodes:    1\n",
       "H2O_cluster_free_memory:    2.924 Gb\n",
       "H2O_cluster_total_cores:    8\n",
       "H2O_cluster_allowed_cores:  8\n",
       "H2O_cluster_status:         locked, healthy\n",
       "H2O_connection_url:         http://127.0.0.1:54321\n",
       "H2O_connection_proxy:       {\"http\": null, \"https\": null}\n",
       "H2O_internal_security:      False\n",
       "Python_version:             3.9.7 final\n",
       "--------------------------  ------------------------------"
      ]
     },
     "metadata": {},
     "output_type": "display_data"
    }
   ],
   "source": [
    "# inicializamos el modelo h2o\n",
    "\n",
    "h2o.init()"
   ]
  },
  {
   "cell_type": "code",
   "execution_count": 7,
   "id": "58392766",
   "metadata": {},
   "outputs": [
    {
     "name": "stdout",
     "output_type": "stream",
     "text": [
      "Parse progress: |████████████████████████████████████████████████████████████████| (done) 100%\n",
      "Parse progress: |████████████████████████████████████████████████████████████████| (done) 100%\n"
     ]
    }
   ],
   "source": [
    "h2train=h2o.H2OFrame(train)\n",
    "h2test=h2o.H2OFrame(test)"
   ]
  },
  {
   "cell_type": "code",
   "execution_count": 8,
   "id": "41536b88",
   "metadata": {},
   "outputs": [],
   "source": [
    "X=[c for c in h2train.columns if c!='price']\n",
    "\n",
    "y='price'"
   ]
  },
  {
   "cell_type": "code",
   "execution_count": 9,
   "id": "8de3867d",
   "metadata": {},
   "outputs": [],
   "source": [
    "# inicia auto-machine-learning\n",
    "\n",
    "automl=H2OAutoML(max_models=50,\n",
    "                 seed=42,   # random_state\n",
    "                 max_runtime_secs=300,\n",
    "                 sort_metric='RMSE')"
   ]
  },
  {
   "cell_type": "code",
   "execution_count": 10,
   "id": "72d95a0e",
   "metadata": {},
   "outputs": [
    {
     "name": "stdout",
     "output_type": "stream",
     "text": [
      "AutoML progress: |\n",
      "19:48:14.143: AutoML: XGBoost is not available; skipping it.\n",
      "19:48:14.174: _train param, Dropping bad and constant columns: [amenities, picture_url, neighbourhood_group_cleansed, calendar_updated, listing_url, name, description, bathrooms, scrape_id]\n",
      "\n",
      "██████\n",
      "19:48:37.716: GLM_1_AutoML_1_20220508_194814 [GLM def_1] failed: DistributedException from /127.0.0.1:54321: 'Java heap space', caused by java.lang.OutOfMemoryError: Java heap space\n",
      "19:48:38.643: _train param, Dropping bad and constant columns: [amenities, picture_url, neighbourhood_group_cleansed, calendar_updated, listing_url, name, description, bathrooms, scrape_id]\n",
      "\n",
      "█\n",
      "19:48:43.914: _train param, Dropping bad and constant columns: [amenities, picture_url, neighbourhood_group_cleansed, calendar_updated, listing_url, name, description, bathrooms, scrape_id]\n",
      "\n",
      "██████████\n",
      "19:49:30.231: _train param, Dropping bad and constant columns: [amenities, picture_url, neighbourhood_group_cleansed, calendar_updated, listing_url, name, description, bathrooms, scrape_id]\n",
      "\n",
      "██\n",
      "19:49:41.708: _train param, Dropping bad and constant columns: [amenities, picture_url, neighbourhood_group_cleansed, calendar_updated, listing_url, name, description, bathrooms, scrape_id]\n",
      "\n",
      "███\n",
      "19:49:54.594: _train param, Dropping bad and constant columns: [amenities, picture_url, neighbourhood_group_cleansed, calendar_updated, listing_url, name, description, bathrooms, scrape_id]\n",
      "\n",
      "███\n",
      "19:50:08.980: _train param, Dropping bad and constant columns: [amenities, picture_url, neighbourhood_group_cleansed, calendar_updated, listing_url, name, description, bathrooms, scrape_id]\n",
      "\n",
      "██████████████\n",
      "19:51:20.282: _train param, Dropping bad and constant columns: [amenities, picture_url, neighbourhood_group_cleansed, calendar_updated, listing_url, name, description, bathrooms, scrape_id]\n",
      "\n",
      "█\n",
      "19:51:25.314: _train param, Dropping bad and constant columns: [amenities, picture_url, neighbourhood_group_cleansed, calendar_updated, listing_url, name, description, bathrooms, scrape_id]\n",
      "\n",
      "███████████████████████| (done) 100%\n",
      "Model Details\n",
      "=============\n",
      "H2OGradientBoostingEstimator :  Gradient Boosting Machine\n",
      "Model Key:  GBM_5_AutoML_1_20220508_194814\n",
      "\n",
      "\n",
      "Model Summary: \n"
     ]
    },
    {
     "data": {
      "text/html": [
       "<div>\n",
       "<style scoped>\n",
       "    .dataframe tbody tr th:only-of-type {\n",
       "        vertical-align: middle;\n",
       "    }\n",
       "\n",
       "    .dataframe tbody tr th {\n",
       "        vertical-align: top;\n",
       "    }\n",
       "\n",
       "    .dataframe thead th {\n",
       "        text-align: right;\n",
       "    }\n",
       "</style>\n",
       "<table border=\"1\" class=\"dataframe\">\n",
       "  <thead>\n",
       "    <tr style=\"text-align: right;\">\n",
       "      <th></th>\n",
       "      <th></th>\n",
       "      <th>number_of_trees</th>\n",
       "      <th>number_of_internal_trees</th>\n",
       "      <th>model_size_in_bytes</th>\n",
       "      <th>min_depth</th>\n",
       "      <th>max_depth</th>\n",
       "      <th>mean_depth</th>\n",
       "      <th>min_leaves</th>\n",
       "      <th>max_leaves</th>\n",
       "      <th>mean_leaves</th>\n",
       "    </tr>\n",
       "  </thead>\n",
       "  <tbody>\n",
       "    <tr>\n",
       "      <th>0</th>\n",
       "      <td></td>\n",
       "      <td>62.0</td>\n",
       "      <td>62.0</td>\n",
       "      <td>60913.0</td>\n",
       "      <td>6.0</td>\n",
       "      <td>6.0</td>\n",
       "      <td>6.0</td>\n",
       "      <td>25.0</td>\n",
       "      <td>63.0</td>\n",
       "      <td>46.935482</td>\n",
       "    </tr>\n",
       "  </tbody>\n",
       "</table>\n",
       "</div>"
      ],
      "text/plain": [
       "     number_of_trees  number_of_internal_trees  model_size_in_bytes  \\\n",
       "0               62.0                      62.0              60913.0   \n",
       "\n",
       "   min_depth  max_depth  mean_depth  min_leaves  max_leaves  mean_leaves  \n",
       "0        6.0        6.0         6.0        25.0        63.0    46.935482  "
      ]
     },
     "metadata": {},
     "output_type": "display_data"
    },
    {
     "name": "stdout",
     "output_type": "stream",
     "text": [
      "\n",
      "\n",
      "ModelMetricsRegression: gbm\n",
      "** Reported on train data. **\n",
      "\n",
      "MSE: 1129.636224245388\n",
      "RMSE: 33.61006135438297\n",
      "MAE: 22.851439940975908\n",
      "RMSLE: 0.24938959792540794\n",
      "Mean Residual Deviance: 1129.636224245388\n",
      "\n",
      "ModelMetricsRegression: gbm\n",
      "** Reported on cross-validation data. **\n",
      "\n",
      "MSE: 9481.229312619731\n",
      "RMSE: 97.37160424178977\n",
      "MAE: 50.34154293943399\n",
      "RMSLE: NaN\n",
      "Mean Residual Deviance: 9481.229312619731\n",
      "\n",
      "Cross-Validation Metrics Summary: \n"
     ]
    },
    {
     "data": {
      "text/html": [
       "<div>\n",
       "<style scoped>\n",
       "    .dataframe tbody tr th:only-of-type {\n",
       "        vertical-align: middle;\n",
       "    }\n",
       "\n",
       "    .dataframe tbody tr th {\n",
       "        vertical-align: top;\n",
       "    }\n",
       "\n",
       "    .dataframe thead th {\n",
       "        text-align: right;\n",
       "    }\n",
       "</style>\n",
       "<table border=\"1\" class=\"dataframe\">\n",
       "  <thead>\n",
       "    <tr style=\"text-align: right;\">\n",
       "      <th></th>\n",
       "      <th></th>\n",
       "      <th>mean</th>\n",
       "      <th>sd</th>\n",
       "      <th>cv_1_valid</th>\n",
       "      <th>cv_2_valid</th>\n",
       "      <th>cv_3_valid</th>\n",
       "      <th>cv_4_valid</th>\n",
       "      <th>cv_5_valid</th>\n",
       "    </tr>\n",
       "  </thead>\n",
       "  <tbody>\n",
       "    <tr>\n",
       "      <th>0</th>\n",
       "      <td>mae</td>\n",
       "      <td>49.971226</td>\n",
       "      <td>1.505475</td>\n",
       "      <td>50.103844</td>\n",
       "      <td>50.446774</td>\n",
       "      <td>50.132267</td>\n",
       "      <td>47.525032</td>\n",
       "      <td>51.648212</td>\n",
       "    </tr>\n",
       "    <tr>\n",
       "      <th>1</th>\n",
       "      <td>mean_residual_deviance</td>\n",
       "      <td>9599.678000</td>\n",
       "      <td>1724.088000</td>\n",
       "      <td>8462.748000</td>\n",
       "      <td>8648.253000</td>\n",
       "      <td>11215.213000</td>\n",
       "      <td>7969.221000</td>\n",
       "      <td>11702.951000</td>\n",
       "    </tr>\n",
       "    <tr>\n",
       "      <th>2</th>\n",
       "      <td>mse</td>\n",
       "      <td>9599.678000</td>\n",
       "      <td>1724.088000</td>\n",
       "      <td>8462.748000</td>\n",
       "      <td>8648.253000</td>\n",
       "      <td>11215.213000</td>\n",
       "      <td>7969.221000</td>\n",
       "      <td>11702.951000</td>\n",
       "    </tr>\n",
       "    <tr>\n",
       "      <th>3</th>\n",
       "      <td>r2</td>\n",
       "      <td>0.495507</td>\n",
       "      <td>0.380268</td>\n",
       "      <td>0.880405</td>\n",
       "      <td>0.344296</td>\n",
       "      <td>0.019826</td>\n",
       "      <td>0.892049</td>\n",
       "      <td>0.340958</td>\n",
       "    </tr>\n",
       "    <tr>\n",
       "      <th>4</th>\n",
       "      <td>residual_deviance</td>\n",
       "      <td>9599.678000</td>\n",
       "      <td>1724.088000</td>\n",
       "      <td>8462.748000</td>\n",
       "      <td>8648.253000</td>\n",
       "      <td>11215.213000</td>\n",
       "      <td>7969.221000</td>\n",
       "      <td>11702.951000</td>\n",
       "    </tr>\n",
       "    <tr>\n",
       "      <th>5</th>\n",
       "      <td>rmse</td>\n",
       "      <td>97.668350</td>\n",
       "      <td>8.701325</td>\n",
       "      <td>91.993195</td>\n",
       "      <td>92.995990</td>\n",
       "      <td>105.901900</td>\n",
       "      <td>89.270490</td>\n",
       "      <td>108.180180</td>\n",
       "    </tr>\n",
       "    <tr>\n",
       "      <th>6</th>\n",
       "      <td>rmsle</td>\n",
       "      <td>0.405098</td>\n",
       "      <td>0.030909</td>\n",
       "      <td>NaN</td>\n",
       "      <td>0.375265</td>\n",
       "      <td>0.391444</td>\n",
       "      <td>0.406295</td>\n",
       "      <td>0.447386</td>\n",
       "    </tr>\n",
       "  </tbody>\n",
       "</table>\n",
       "</div>"
      ],
      "text/plain": [
       "                                  mean           sd   cv_1_valid   cv_2_valid  \\\n",
       "0                     mae    49.971226     1.505475    50.103844    50.446774   \n",
       "1  mean_residual_deviance  9599.678000  1724.088000  8462.748000  8648.253000   \n",
       "2                     mse  9599.678000  1724.088000  8462.748000  8648.253000   \n",
       "3                      r2     0.495507     0.380268     0.880405     0.344296   \n",
       "4       residual_deviance  9599.678000  1724.088000  8462.748000  8648.253000   \n",
       "5                    rmse    97.668350     8.701325    91.993195    92.995990   \n",
       "6                   rmsle     0.405098     0.030909          NaN     0.375265   \n",
       "\n",
       "     cv_3_valid   cv_4_valid    cv_5_valid  \n",
       "0     50.132267    47.525032     51.648212  \n",
       "1  11215.213000  7969.221000  11702.951000  \n",
       "2  11215.213000  7969.221000  11702.951000  \n",
       "3      0.019826     0.892049      0.340958  \n",
       "4  11215.213000  7969.221000  11702.951000  \n",
       "5    105.901900    89.270490    108.180180  \n",
       "6      0.391444     0.406295      0.447386  "
      ]
     },
     "metadata": {},
     "output_type": "display_data"
    },
    {
     "name": "stdout",
     "output_type": "stream",
     "text": [
      "\n",
      "Scoring History: \n"
     ]
    },
    {
     "data": {
      "text/html": [
       "<div>\n",
       "<style scoped>\n",
       "    .dataframe tbody tr th:only-of-type {\n",
       "        vertical-align: middle;\n",
       "    }\n",
       "\n",
       "    .dataframe tbody tr th {\n",
       "        vertical-align: top;\n",
       "    }\n",
       "\n",
       "    .dataframe thead th {\n",
       "        text-align: right;\n",
       "    }\n",
       "</style>\n",
       "<table border=\"1\" class=\"dataframe\">\n",
       "  <thead>\n",
       "    <tr style=\"text-align: right;\">\n",
       "      <th></th>\n",
       "      <th></th>\n",
       "      <th>timestamp</th>\n",
       "      <th>duration</th>\n",
       "      <th>number_of_trees</th>\n",
       "      <th>training_rmse</th>\n",
       "      <th>training_mae</th>\n",
       "      <th>training_deviance</th>\n",
       "    </tr>\n",
       "  </thead>\n",
       "  <tbody>\n",
       "    <tr>\n",
       "      <th>0</th>\n",
       "      <td></td>\n",
       "      <td>2022-05-08 19:51:24</td>\n",
       "      <td>4.049 sec</td>\n",
       "      <td>0.0</td>\n",
       "      <td>193.467206</td>\n",
       "      <td>80.227498</td>\n",
       "      <td>37429.559685</td>\n",
       "    </tr>\n",
       "    <tr>\n",
       "      <th>1</th>\n",
       "      <td></td>\n",
       "      <td>2022-05-08 19:51:24</td>\n",
       "      <td>4.118 sec</td>\n",
       "      <td>5.0</td>\n",
       "      <td>135.433738</td>\n",
       "      <td>61.924184</td>\n",
       "      <td>18342.297273</td>\n",
       "    </tr>\n",
       "    <tr>\n",
       "      <th>2</th>\n",
       "      <td></td>\n",
       "      <td>2022-05-08 19:51:24</td>\n",
       "      <td>4.172 sec</td>\n",
       "      <td>10.0</td>\n",
       "      <td>97.307366</td>\n",
       "      <td>50.877723</td>\n",
       "      <td>9468.723416</td>\n",
       "    </tr>\n",
       "    <tr>\n",
       "      <th>3</th>\n",
       "      <td></td>\n",
       "      <td>2022-05-08 19:51:24</td>\n",
       "      <td>4.237 sec</td>\n",
       "      <td>15.0</td>\n",
       "      <td>77.756957</td>\n",
       "      <td>44.424621</td>\n",
       "      <td>6046.144424</td>\n",
       "    </tr>\n",
       "    <tr>\n",
       "      <th>4</th>\n",
       "      <td></td>\n",
       "      <td>2022-05-08 19:51:24</td>\n",
       "      <td>4.303 sec</td>\n",
       "      <td>20.0</td>\n",
       "      <td>63.489930</td>\n",
       "      <td>39.715187</td>\n",
       "      <td>4030.971234</td>\n",
       "    </tr>\n",
       "    <tr>\n",
       "      <th>5</th>\n",
       "      <td></td>\n",
       "      <td>2022-05-08 19:51:24</td>\n",
       "      <td>4.372 sec</td>\n",
       "      <td>25.0</td>\n",
       "      <td>54.165336</td>\n",
       "      <td>36.185145</td>\n",
       "      <td>2933.883653</td>\n",
       "    </tr>\n",
       "    <tr>\n",
       "      <th>6</th>\n",
       "      <td></td>\n",
       "      <td>2022-05-08 19:51:24</td>\n",
       "      <td>4.447 sec</td>\n",
       "      <td>30.0</td>\n",
       "      <td>49.153908</td>\n",
       "      <td>33.301696</td>\n",
       "      <td>2416.106656</td>\n",
       "    </tr>\n",
       "    <tr>\n",
       "      <th>7</th>\n",
       "      <td></td>\n",
       "      <td>2022-05-08 19:51:24</td>\n",
       "      <td>4.521 sec</td>\n",
       "      <td>35.0</td>\n",
       "      <td>45.490872</td>\n",
       "      <td>30.776134</td>\n",
       "      <td>2069.419426</td>\n",
       "    </tr>\n",
       "    <tr>\n",
       "      <th>8</th>\n",
       "      <td></td>\n",
       "      <td>2022-05-08 19:51:24</td>\n",
       "      <td>4.615 sec</td>\n",
       "      <td>40.0</td>\n",
       "      <td>42.356263</td>\n",
       "      <td>28.780631</td>\n",
       "      <td>1794.052977</td>\n",
       "    </tr>\n",
       "    <tr>\n",
       "      <th>9</th>\n",
       "      <td></td>\n",
       "      <td>2022-05-08 19:51:24</td>\n",
       "      <td>4.717 sec</td>\n",
       "      <td>45.0</td>\n",
       "      <td>39.862837</td>\n",
       "      <td>27.046024</td>\n",
       "      <td>1589.045788</td>\n",
       "    </tr>\n",
       "    <tr>\n",
       "      <th>10</th>\n",
       "      <td></td>\n",
       "      <td>2022-05-08 19:51:25</td>\n",
       "      <td>4.792 sec</td>\n",
       "      <td>50.0</td>\n",
       "      <td>37.940547</td>\n",
       "      <td>25.579803</td>\n",
       "      <td>1439.485085</td>\n",
       "    </tr>\n",
       "    <tr>\n",
       "      <th>11</th>\n",
       "      <td></td>\n",
       "      <td>2022-05-08 19:51:25</td>\n",
       "      <td>4.847 sec</td>\n",
       "      <td>55.0</td>\n",
       "      <td>36.024003</td>\n",
       "      <td>24.340899</td>\n",
       "      <td>1297.728777</td>\n",
       "    </tr>\n",
       "    <tr>\n",
       "      <th>12</th>\n",
       "      <td></td>\n",
       "      <td>2022-05-08 19:51:25</td>\n",
       "      <td>4.894 sec</td>\n",
       "      <td>60.0</td>\n",
       "      <td>34.423613</td>\n",
       "      <td>23.289486</td>\n",
       "      <td>1184.985098</td>\n",
       "    </tr>\n",
       "    <tr>\n",
       "      <th>13</th>\n",
       "      <td></td>\n",
       "      <td>2022-05-08 19:51:25</td>\n",
       "      <td>4.938 sec</td>\n",
       "      <td>62.0</td>\n",
       "      <td>33.610061</td>\n",
       "      <td>22.851440</td>\n",
       "      <td>1129.636224</td>\n",
       "    </tr>\n",
       "  </tbody>\n",
       "</table>\n",
       "</div>"
      ],
      "text/plain": [
       "                timestamp    duration  number_of_trees  training_rmse  \\\n",
       "0     2022-05-08 19:51:24   4.049 sec              0.0     193.467206   \n",
       "1     2022-05-08 19:51:24   4.118 sec              5.0     135.433738   \n",
       "2     2022-05-08 19:51:24   4.172 sec             10.0      97.307366   \n",
       "3     2022-05-08 19:51:24   4.237 sec             15.0      77.756957   \n",
       "4     2022-05-08 19:51:24   4.303 sec             20.0      63.489930   \n",
       "5     2022-05-08 19:51:24   4.372 sec             25.0      54.165336   \n",
       "6     2022-05-08 19:51:24   4.447 sec             30.0      49.153908   \n",
       "7     2022-05-08 19:51:24   4.521 sec             35.0      45.490872   \n",
       "8     2022-05-08 19:51:24   4.615 sec             40.0      42.356263   \n",
       "9     2022-05-08 19:51:24   4.717 sec             45.0      39.862837   \n",
       "10    2022-05-08 19:51:25   4.792 sec             50.0      37.940547   \n",
       "11    2022-05-08 19:51:25   4.847 sec             55.0      36.024003   \n",
       "12    2022-05-08 19:51:25   4.894 sec             60.0      34.423613   \n",
       "13    2022-05-08 19:51:25   4.938 sec             62.0      33.610061   \n",
       "\n",
       "    training_mae  training_deviance  \n",
       "0      80.227498       37429.559685  \n",
       "1      61.924184       18342.297273  \n",
       "2      50.877723        9468.723416  \n",
       "3      44.424621        6046.144424  \n",
       "4      39.715187        4030.971234  \n",
       "5      36.185145        2933.883653  \n",
       "6      33.301696        2416.106656  \n",
       "7      30.776134        2069.419426  \n",
       "8      28.780631        1794.052977  \n",
       "9      27.046024        1589.045788  \n",
       "10     25.579803        1439.485085  \n",
       "11     24.340899        1297.728777  \n",
       "12     23.289486        1184.985098  \n",
       "13     22.851440        1129.636224  "
      ]
     },
     "metadata": {},
     "output_type": "display_data"
    },
    {
     "name": "stdout",
     "output_type": "stream",
     "text": [
      "\n",
      "Variable Importances: \n"
     ]
    },
    {
     "data": {
      "text/html": [
       "<div>\n",
       "<style scoped>\n",
       "    .dataframe tbody tr th:only-of-type {\n",
       "        vertical-align: middle;\n",
       "    }\n",
       "\n",
       "    .dataframe tbody tr th {\n",
       "        vertical-align: top;\n",
       "    }\n",
       "\n",
       "    .dataframe thead th {\n",
       "        text-align: right;\n",
       "    }\n",
       "</style>\n",
       "<table border=\"1\" class=\"dataframe\">\n",
       "  <thead>\n",
       "    <tr style=\"text-align: right;\">\n",
       "      <th></th>\n",
       "      <th>variable</th>\n",
       "      <th>relative_importance</th>\n",
       "      <th>scaled_importance</th>\n",
       "      <th>percentage</th>\n",
       "    </tr>\n",
       "  </thead>\n",
       "  <tbody>\n",
       "    <tr>\n",
       "      <th>0</th>\n",
       "      <td>host_neighbourhood</td>\n",
       "      <td>114980112.0</td>\n",
       "      <td>1.000000</td>\n",
       "      <td>0.197864</td>\n",
       "    </tr>\n",
       "    <tr>\n",
       "      <th>1</th>\n",
       "      <td>property_type</td>\n",
       "      <td>106546952.0</td>\n",
       "      <td>0.926655</td>\n",
       "      <td>0.183352</td>\n",
       "    </tr>\n",
       "    <tr>\n",
       "      <th>2</th>\n",
       "      <td>calculated_host_listings_count_private_rooms</td>\n",
       "      <td>53919128.0</td>\n",
       "      <td>0.468943</td>\n",
       "      <td>0.092787</td>\n",
       "    </tr>\n",
       "    <tr>\n",
       "      <th>3</th>\n",
       "      <td>neighbourhood_cleansed</td>\n",
       "      <td>41548060.0</td>\n",
       "      <td>0.361350</td>\n",
       "      <td>0.071498</td>\n",
       "    </tr>\n",
       "    <tr>\n",
       "      <th>4</th>\n",
       "      <td>accommodates</td>\n",
       "      <td>38347488.0</td>\n",
       "      <td>0.333514</td>\n",
       "      <td>0.065991</td>\n",
       "    </tr>\n",
       "    <tr>\n",
       "      <th>5</th>\n",
       "      <td>host_verifications</td>\n",
       "      <td>30356480.0</td>\n",
       "      <td>0.264015</td>\n",
       "      <td>0.052239</td>\n",
       "    </tr>\n",
       "    <tr>\n",
       "      <th>6</th>\n",
       "      <td>license</td>\n",
       "      <td>21622782.0</td>\n",
       "      <td>0.188057</td>\n",
       "      <td>0.037210</td>\n",
       "    </tr>\n",
       "    <tr>\n",
       "      <th>7</th>\n",
       "      <td>bedrooms</td>\n",
       "      <td>20475400.0</td>\n",
       "      <td>0.178078</td>\n",
       "      <td>0.035235</td>\n",
       "    </tr>\n",
       "    <tr>\n",
       "      <th>8</th>\n",
       "      <td>host_since</td>\n",
       "      <td>20156300.0</td>\n",
       "      <td>0.175302</td>\n",
       "      <td>0.034686</td>\n",
       "    </tr>\n",
       "    <tr>\n",
       "      <th>9</th>\n",
       "      <td>host_acceptance_rate</td>\n",
       "      <td>14325252.0</td>\n",
       "      <td>0.124589</td>\n",
       "      <td>0.024652</td>\n",
       "    </tr>\n",
       "    <tr>\n",
       "      <th>10</th>\n",
       "      <td>bathrooms_text</td>\n",
       "      <td>13954254.0</td>\n",
       "      <td>0.121362</td>\n",
       "      <td>0.024013</td>\n",
       "    </tr>\n",
       "    <tr>\n",
       "      <th>11</th>\n",
       "      <td>availability_365</td>\n",
       "      <td>12760649.0</td>\n",
       "      <td>0.110981</td>\n",
       "      <td>0.021959</td>\n",
       "    </tr>\n",
       "    <tr>\n",
       "      <th>12</th>\n",
       "      <td>host_location</td>\n",
       "      <td>10415753.0</td>\n",
       "      <td>0.090587</td>\n",
       "      <td>0.017924</td>\n",
       "    </tr>\n",
       "    <tr>\n",
       "      <th>13</th>\n",
       "      <td>beds</td>\n",
       "      <td>9776670.0</td>\n",
       "      <td>0.085029</td>\n",
       "      <td>0.016824</td>\n",
       "    </tr>\n",
       "    <tr>\n",
       "      <th>14</th>\n",
       "      <td>host_listings_count</td>\n",
       "      <td>7843908.0</td>\n",
       "      <td>0.068220</td>\n",
       "      <td>0.013498</td>\n",
       "    </tr>\n",
       "    <tr>\n",
       "      <th>15</th>\n",
       "      <td>availability_30</td>\n",
       "      <td>7401724.5</td>\n",
       "      <td>0.064374</td>\n",
       "      <td>0.012737</td>\n",
       "    </tr>\n",
       "    <tr>\n",
       "      <th>16</th>\n",
       "      <td>host_response_rate</td>\n",
       "      <td>6412283.5</td>\n",
       "      <td>0.055769</td>\n",
       "      <td>0.011035</td>\n",
       "    </tr>\n",
       "    <tr>\n",
       "      <th>17</th>\n",
       "      <td>availability_90</td>\n",
       "      <td>5906287.5</td>\n",
       "      <td>0.051368</td>\n",
       "      <td>0.010164</td>\n",
       "    </tr>\n",
       "    <tr>\n",
       "      <th>18</th>\n",
       "      <td>calculated_host_listings_count</td>\n",
       "      <td>4606321.5</td>\n",
       "      <td>0.040062</td>\n",
       "      <td>0.007927</td>\n",
       "    </tr>\n",
       "    <tr>\n",
       "      <th>19</th>\n",
       "      <td>availability_60</td>\n",
       "      <td>3621716.5</td>\n",
       "      <td>0.031499</td>\n",
       "      <td>0.006232</td>\n",
       "    </tr>\n",
       "  </tbody>\n",
       "</table>\n",
       "</div>"
      ],
      "text/plain": [
       "                                        variable  relative_importance  \\\n",
       "0                             host_neighbourhood          114980112.0   \n",
       "1                                  property_type          106546952.0   \n",
       "2   calculated_host_listings_count_private_rooms           53919128.0   \n",
       "3                         neighbourhood_cleansed           41548060.0   \n",
       "4                                   accommodates           38347488.0   \n",
       "5                             host_verifications           30356480.0   \n",
       "6                                        license           21622782.0   \n",
       "7                                       bedrooms           20475400.0   \n",
       "8                                     host_since           20156300.0   \n",
       "9                           host_acceptance_rate           14325252.0   \n",
       "10                                bathrooms_text           13954254.0   \n",
       "11                              availability_365           12760649.0   \n",
       "12                                 host_location           10415753.0   \n",
       "13                                          beds            9776670.0   \n",
       "14                           host_listings_count            7843908.0   \n",
       "15                               availability_30            7401724.5   \n",
       "16                            host_response_rate            6412283.5   \n",
       "17                               availability_90            5906287.5   \n",
       "18                calculated_host_listings_count            4606321.5   \n",
       "19                               availability_60            3621716.5   \n",
       "\n",
       "    scaled_importance  percentage  \n",
       "0            1.000000    0.197864  \n",
       "1            0.926655    0.183352  \n",
       "2            0.468943    0.092787  \n",
       "3            0.361350    0.071498  \n",
       "4            0.333514    0.065991  \n",
       "5            0.264015    0.052239  \n",
       "6            0.188057    0.037210  \n",
       "7            0.178078    0.035235  \n",
       "8            0.175302    0.034686  \n",
       "9            0.124589    0.024652  \n",
       "10           0.121362    0.024013  \n",
       "11           0.110981    0.021959  \n",
       "12           0.090587    0.017924  \n",
       "13           0.085029    0.016824  \n",
       "14           0.068220    0.013498  \n",
       "15           0.064374    0.012737  \n",
       "16           0.055769    0.011035  \n",
       "17           0.051368    0.010164  \n",
       "18           0.040062    0.007927  \n",
       "19           0.031499    0.006232  "
      ]
     },
     "metadata": {},
     "output_type": "display_data"
    },
    {
     "name": "stdout",
     "output_type": "stream",
     "text": [
      "\n",
      "See the whole table with table.as_data_frame()\n"
     ]
    },
    {
     "data": {
      "text/plain": []
     },
     "execution_count": 10,
     "metadata": {},
     "output_type": "execute_result"
    }
   ],
   "source": [
    "# entrena\n",
    "\n",
    "automl.train(x=X,\n",
    "             y=y,\n",
    "             training_frame=h2train)"
   ]
  },
  {
   "cell_type": "code",
   "execution_count": 11,
   "id": "2e2e146c",
   "metadata": {},
   "outputs": [
    {
     "name": "stdout",
     "output_type": "stream",
     "text": [
      "[INFO] Leader board:\n"
     ]
    },
    {
     "data": {
      "text/html": [
       "<table>\n",
       "<thead>\n",
       "<tr><th>model_id                                   </th><th style=\"text-align: right;\">    rmse</th><th style=\"text-align: right;\">     mse</th><th style=\"text-align: right;\">    mae</th><th style=\"text-align: right;\">     rmsle</th><th style=\"text-align: right;\">  mean_residual_deviance</th></tr>\n",
       "</thead>\n",
       "<tbody>\n",
       "<tr><td>GBM_5_AutoML_1_20220508_194814             </td><td style=\"text-align: right;\"> 97.3716</td><td style=\"text-align: right;\"> 9481.23</td><td style=\"text-align: right;\">50.3415</td><td style=\"text-align: right;\">nan       </td><td style=\"text-align: right;\">                 9481.23</td></tr>\n",
       "<tr><td>GBM_grid_1_AutoML_1_20220508_194814_model_5</td><td style=\"text-align: right;\">100.865 </td><td style=\"text-align: right;\">10173.8 </td><td style=\"text-align: right;\">52.8783</td><td style=\"text-align: right;\">nan       </td><td style=\"text-align: right;\">                10173.8 </td></tr>\n",
       "<tr><td>GBM_2_AutoML_1_20220508_194814             </td><td style=\"text-align: right;\">100.893 </td><td style=\"text-align: right;\">10179.3 </td><td style=\"text-align: right;\">54.5709</td><td style=\"text-align: right;\">nan       </td><td style=\"text-align: right;\">                10179.3 </td></tr>\n",
       "<tr><td>GBM_3_AutoML_1_20220508_194814             </td><td style=\"text-align: right;\">101.091 </td><td style=\"text-align: right;\">10219.3 </td><td style=\"text-align: right;\">54.5379</td><td style=\"text-align: right;\">nan       </td><td style=\"text-align: right;\">                10219.3 </td></tr>\n",
       "<tr><td>GBM_4_AutoML_1_20220508_194814             </td><td style=\"text-align: right;\">101.222 </td><td style=\"text-align: right;\">10245.8 </td><td style=\"text-align: right;\">53.4855</td><td style=\"text-align: right;\">nan       </td><td style=\"text-align: right;\">                10245.8 </td></tr>\n",
       "<tr><td>GBM_grid_1_AutoML_1_20220508_194814_model_2</td><td style=\"text-align: right;\">102.36  </td><td style=\"text-align: right;\">10477.7 </td><td style=\"text-align: right;\">55.4282</td><td style=\"text-align: right;\">nan       </td><td style=\"text-align: right;\">                10477.7 </td></tr>\n",
       "<tr><td>GBM_grid_1_AutoML_1_20220508_194814_model_1</td><td style=\"text-align: right;\">102.703 </td><td style=\"text-align: right;\">10548   </td><td style=\"text-align: right;\">53.5857</td><td style=\"text-align: right;\">nan       </td><td style=\"text-align: right;\">                10548   </td></tr>\n",
       "<tr><td>GBM_grid_1_AutoML_1_20220508_194814_model_4</td><td style=\"text-align: right;\">104.065 </td><td style=\"text-align: right;\">10829.6 </td><td style=\"text-align: right;\">55.2224</td><td style=\"text-align: right;\">nan       </td><td style=\"text-align: right;\">                10829.6 </td></tr>\n",
       "<tr><td>GBM_grid_1_AutoML_1_20220508_194814_model_3</td><td style=\"text-align: right;\">105.491 </td><td style=\"text-align: right;\">11128.3 </td><td style=\"text-align: right;\">53.9412</td><td style=\"text-align: right;\">nan       </td><td style=\"text-align: right;\">                11128.3 </td></tr>\n",
       "<tr><td>DRF_1_AutoML_1_20220508_194814             </td><td style=\"text-align: right;\">116.561 </td><td style=\"text-align: right;\">13586.4 </td><td style=\"text-align: right;\">51.8256</td><td style=\"text-align: right;\">  0.419024</td><td style=\"text-align: right;\">                13586.4 </td></tr>\n",
       "</tbody>\n",
       "</table>"
      ]
     },
     "metadata": {},
     "output_type": "display_data"
    },
    {
     "data": {
      "text/plain": []
     },
     "execution_count": 11,
     "metadata": {},
     "output_type": "execute_result"
    }
   ],
   "source": [
    "print('[INFO] Leader board:')\n",
    "\n",
    "leader_board=automl.leaderboard\n",
    "\n",
    "leader_board.head()"
   ]
  },
  {
   "cell_type": "code",
   "execution_count": 12,
   "id": "25bdcf76",
   "metadata": {},
   "outputs": [],
   "source": [
    "H20_1 = automl.leader"
   ]
  },
  {
   "cell_type": "code",
   "execution_count": 13,
   "id": "073762af",
   "metadata": {},
   "outputs": [
    {
     "name": "stdout",
     "output_type": "stream",
     "text": [
      "gbm prediction progress: |███████████████████████████████████████████████████████| (done) 100%\n"
     ]
    }
   ],
   "source": [
    "# prediciones del lider\n",
    "\n",
    "y_pred=automl.leader.predict(h2test)"
   ]
  },
  {
   "cell_type": "code",
   "execution_count": 14,
   "id": "8024282d",
   "metadata": {},
   "outputs": [
    {
     "data": {
      "text/plain": [
       "'from sklearn.metrics import accuracy_score\\n\\naccuracy_score(y_test, y_pred_test)'"
      ]
     },
     "execution_count": 14,
     "metadata": {},
     "output_type": "execute_result"
    }
   ],
   "source": [
    "# Para testear la precisión de mi modelo\n",
    "\n",
    "'''from sklearn.metrics import accuracy_score\n",
    "\n",
    "accuracy_score(y_test, y_pred_test)'''"
   ]
  },
  {
   "cell_type": "markdown",
   "id": "3c5740d8",
   "metadata": {},
   "source": [
    "## Prediccion del test real para hacer el summit"
   ]
  },
  {
   "cell_type": "code",
   "execution_count": 15,
   "id": "639a31c5",
   "metadata": {},
   "outputs": [
    {
     "name": "stdout",
     "output_type": "stream",
     "text": [
      "Parse progress: |████████████████████████████████████████████████████████████████| (done) 100%\n",
      "gbm prediction progress: |███████████████████████████████████████████████████████| (done) 100%\n"
     ]
    }
   ],
   "source": [
    "h2_real_test=h2o.H2OFrame(rbnb_test)\n",
    "\n",
    "y_pred_test = automl.leader.predict(h2_real_test)"
   ]
  },
  {
   "cell_type": "code",
   "execution_count": 16,
   "id": "b74da0cd",
   "metadata": {},
   "outputs": [],
   "source": [
    "submission = h2o.as_list(y_pred_test)"
   ]
  },
  {
   "cell_type": "code",
   "execution_count": 17,
   "id": "6972776d",
   "metadata": {},
   "outputs": [],
   "source": [
    "rbnb_test_y = rbnb_test.id"
   ]
  },
  {
   "cell_type": "code",
   "execution_count": 18,
   "id": "eb28a4a4",
   "metadata": {},
   "outputs": [],
   "source": [
    "submission['id'] = rbnb_test_y"
   ]
  },
  {
   "cell_type": "code",
   "execution_count": 19,
   "id": "d5d32822",
   "metadata": {},
   "outputs": [],
   "source": [
    "submission = submission.rename(columns={'predict': 'price'})"
   ]
  },
  {
   "cell_type": "code",
   "execution_count": 20,
   "id": "2b5ccca2",
   "metadata": {
    "scrolled": true
   },
   "outputs": [],
   "source": [
    "submission.to_csv('../data/H2O.csv', sep=',', index=False)"
   ]
  },
  {
   "cell_type": "code",
   "execution_count": 21,
   "id": "26e61f3c",
   "metadata": {},
   "outputs": [],
   "source": [
    "y_pred = h2o.as_list(y_pred)\n",
    "\n"
   ]
  },
  {
   "cell_type": "code",
   "execution_count": 22,
   "id": "b65f378c",
   "metadata": {},
   "outputs": [
    {
     "data": {
      "text/plain": [
       "94.42480407277844"
      ]
     },
     "execution_count": 22,
     "metadata": {},
     "output_type": "execute_result"
    }
   ],
   "source": [
    "mse(test.price, y_pred.predict, squared=False)"
   ]
  },
  {
   "cell_type": "code",
   "execution_count": null,
   "id": "42d89740",
   "metadata": {},
   "outputs": [],
   "source": []
  }
 ],
 "metadata": {
  "kernelspec": {
   "display_name": "clase",
   "language": "python",
   "name": "clase"
  },
  "language_info": {
   "codemirror_mode": {
    "name": "ipython",
    "version": 3
   },
   "file_extension": ".py",
   "mimetype": "text/x-python",
   "name": "python",
   "nbconvert_exporter": "python",
   "pygments_lexer": "ipython3",
   "version": "3.9.7"
  }
 },
 "nbformat": 4,
 "nbformat_minor": 5
}
