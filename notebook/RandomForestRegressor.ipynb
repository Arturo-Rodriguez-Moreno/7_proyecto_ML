{
 "cells": [
  {
   "cell_type": "code",
   "execution_count": 1,
   "id": "a61580cc",
   "metadata": {
    "scrolled": false
   },
   "outputs": [],
   "source": [
    "#!pip install ipynb"
   ]
  },
  {
   "cell_type": "code",
   "execution_count": 2,
   "id": "09fba059",
   "metadata": {},
   "outputs": [],
   "source": [
    "import warnings\n",
    "warnings.filterwarnings('ignore')\n",
    "\n",
    "import pandas as pd\n",
    "import numpy as np\n",
    "\n",
    "import pylab as plt\n",
    "import seaborn as sns\n",
    "\n",
    "import re\n",
    "\n",
    "%matplotlib inline\n",
    "\n",
    "pd.set_option('display.max_columns', None)\n",
    "\n",
    "from sklearn.preprocessing import StandardScaler\n",
    "from sklearn.metrics import mean_squared_error as mse  # error cuadratico medio\n",
    "from sklearn.metrics import r2_score as r2"
   ]
  },
  {
   "cell_type": "code",
   "execution_count": 3,
   "id": "50fbb02c",
   "metadata": {},
   "outputs": [],
   "source": [
    "from ipynb.fs.full.my_functions import limpiar_dataset, one_hot_encoding, standarizar, separar_splitear_xy\n"
   ]
  },
  {
   "cell_type": "code",
   "execution_count": 4,
   "id": "82f2627a",
   "metadata": {},
   "outputs": [],
   "source": [
    "# Cargo los archivo de train y test\n",
    "\n",
    "rbnb = pd.read_csv('../data/train.csv')\n",
    "rbnb_test = pd.read_csv('../data/test.csv')"
   ]
  },
  {
   "cell_type": "markdown",
   "id": "d06865c9",
   "metadata": {},
   "source": [
    "## Arreglo de los datos"
   ]
  },
  {
   "cell_type": "code",
   "execution_count": 5,
   "id": "c5137cad",
   "metadata": {},
   "outputs": [],
   "source": [
    "# Llamo a la función para limpiar\n",
    "\n",
    "rbnb_clean = limpiar_dataset(rbnb)\n",
    "rbnb_test_clean = limpiar_dataset(rbnb_test)"
   ]
  },
  {
   "cell_type": "code",
   "execution_count": 6,
   "id": "249d0f28",
   "metadata": {},
   "outputs": [],
   "source": [
    "# Llamo a la función para separar las catergorias en columnas independientes\n",
    "\n",
    "rbnb_clean = one_hot_encoding(rbnb_clean)\n",
    "rbnb_test_clean = one_hot_encoding(rbnb_test_clean)"
   ]
  },
  {
   "cell_type": "code",
   "execution_count": 7,
   "id": "061a5336",
   "metadata": {},
   "outputs": [],
   "source": [
    "# Llamo a la función para standarizar varias columnas\n",
    "\n",
    "rbnb_clean = standarizar(rbnb_clean)\n",
    "rbnb_test_clean = standarizar(rbnb_test_clean)"
   ]
  },
  {
   "cell_type": "markdown",
   "id": "068b6e32",
   "metadata": {},
   "source": [
    "## Entreno de modelo"
   ]
  },
  {
   "cell_type": "code",
   "execution_count": 8,
   "id": "a6a67d81",
   "metadata": {},
   "outputs": [],
   "source": [
    "# Llamo a la función para separar y splitear X , y\n",
    "\n",
    "X_train, X_test, y_train, y_test = separar_splitear_xy(rbnb_clean)\n"
   ]
  },
  {
   "cell_type": "code",
   "execution_count": 9,
   "id": "8f06e41b",
   "metadata": {},
   "outputs": [],
   "source": [
    "from sklearn.ensemble import RandomForestRegressor as RFR "
   ]
  },
  {
   "cell_type": "code",
   "execution_count": 10,
   "id": "3aaf9e39",
   "metadata": {},
   "outputs": [],
   "source": [
    "rfr=RFR()\n",
    "rfr.fit(X_train, y_train)\n",
    "\n",
    "y_pred_train=rfr.predict(X_train)\n",
    "y_pred=rfr.predict(X_test)\n"
   ]
  },
  {
   "cell_type": "code",
   "execution_count": 11,
   "id": "c95de39f",
   "metadata": {},
   "outputs": [
    {
     "name": "stdout",
     "output_type": "stream",
     "text": [
      "43.762072451454884 95.37353188941758\n"
     ]
    }
   ],
   "source": [
    "\n",
    "mse_train = mse(y_train, y_pred_train, squared=False)\n",
    "mse_test = mse(y_test, y_pred, squared=False)\n",
    "\n",
    "print(mse_train, mse_test)"
   ]
  },
  {
   "cell_type": "code",
   "execution_count": 12,
   "id": "85a1033b",
   "metadata": {},
   "outputs": [
    {
     "name": "stdout",
     "output_type": "stream",
     "text": [
      "0.9488340498424249 0.32323770941795527\n"
     ]
    }
   ],
   "source": [
    "r2_train = r2(y_train, y_pred_train)\n",
    "r2_test = r2(y_test, y_pred)\n",
    "\n",
    "\n",
    "print(r2_train, r2_test)"
   ]
  },
  {
   "cell_type": "markdown",
   "id": "83d22373",
   "metadata": {},
   "source": [
    "## Ajuste del modelo - Hyperparametros"
   ]
  },
  {
   "cell_type": "code",
   "execution_count": 13,
   "id": "bfc54f7a",
   "metadata": {},
   "outputs": [
    {
     "data": {
      "text/plain": [
       "'from sklearn.model_selection import GridSearchCV\\nfrom sklearn.model_selection import RandomizedSearchCV'"
      ]
     },
     "execution_count": 13,
     "metadata": {},
     "output_type": "execute_result"
    }
   ],
   "source": [
    "'''from sklearn.model_selection import GridSearchCV\n",
    "from sklearn.model_selection import RandomizedSearchCV'''"
   ]
  },
  {
   "cell_type": "code",
   "execution_count": 14,
   "id": "9378811a",
   "metadata": {},
   "outputs": [
    {
     "data": {
      "text/plain": [
       "\"n_estimators=[int(x) for x in np.linspace(100, 2000, 10)]\\n\\nmax_features=['auto', 'sqrt']\\n\\nmin_samples_split=[2, 5, 10]\\n\\nbootstrap=[True, False]\""
      ]
     },
     "execution_count": 14,
     "metadata": {},
     "output_type": "execute_result"
    }
   ],
   "source": [
    "'''n_estimators=[int(x) for x in np.linspace(100, 2000, 10)]\n",
    "\n",
    "max_features=['auto', 'sqrt']\n",
    "\n",
    "min_samples_split=[2, 5, 10]\n",
    "\n",
    "bootstrap=[True, False]'''"
   ]
  },
  {
   "cell_type": "code",
   "execution_count": 15,
   "id": "366aafb0",
   "metadata": {},
   "outputs": [
    {
     "data": {
      "text/plain": [
       "\"random_grid={'n_estimators': n_estimators,\\n             'max_features': max_features,\\n             'min_samples_split':min_samples_split,\\n             'bootstrap': bootstrap}\""
      ]
     },
     "execution_count": 15,
     "metadata": {},
     "output_type": "execute_result"
    }
   ],
   "source": [
    "'''random_grid={'n_estimators': n_estimators,\n",
    "             'max_features': max_features,\n",
    "             'min_samples_split':min_samples_split,\n",
    "             'bootstrap': bootstrap}'''"
   ]
  },
  {
   "cell_type": "code",
   "execution_count": 16,
   "id": "b5fafc13",
   "metadata": {},
   "outputs": [
    {
     "data": {
      "text/plain": [
       "'rfr=RFR()'"
      ]
     },
     "execution_count": 16,
     "metadata": {},
     "output_type": "execute_result"
    }
   ],
   "source": [
    "'''rfr=RFR()'''"
   ]
  },
  {
   "cell_type": "code",
   "execution_count": 17,
   "id": "7f5f7df2",
   "metadata": {},
   "outputs": [
    {
     "data": {
      "text/plain": [
       "\"rf_random=RandomizedSearchCV(estimator=rfr,\\n                             param_distributions=random_grid,\\n                             n_iter=100,\\n                             cv=3,\\n                             verbose=10,\\n                             n_jobs=-1, \\n                             scoring='roc_auc')\""
      ]
     },
     "execution_count": 17,
     "metadata": {},
     "output_type": "execute_result"
    }
   ],
   "source": [
    "'''rf_random=RandomizedSearchCV(estimator=rfr,\n",
    "                             param_distributions=random_grid,\n",
    "                             n_iter=100,\n",
    "                             cv=3,\n",
    "                             verbose=10,\n",
    "                             n_jobs=-1, \n",
    "                             scoring='roc_auc')'''"
   ]
  },
  {
   "cell_type": "code",
   "execution_count": 18,
   "id": "ad0cc91c",
   "metadata": {},
   "outputs": [
    {
     "data": {
      "text/plain": [
       "'rf_random.fit(X_train, y_train)  # ajustate para mejor modelo'"
      ]
     },
     "execution_count": 18,
     "metadata": {},
     "output_type": "execute_result"
    }
   ],
   "source": [
    "'''rf_random.fit(X_train, y_train)  # ajustate para mejor modelo'''"
   ]
  },
  {
   "cell_type": "code",
   "execution_count": 19,
   "id": "93efb6f1",
   "metadata": {},
   "outputs": [
    {
     "data": {
      "text/plain": [
       "'rf_random.best_estimator_.fit(X_train, y_train)  # entrenamiento del mejor modelo'"
      ]
     },
     "execution_count": 19,
     "metadata": {},
     "output_type": "execute_result"
    }
   ],
   "source": [
    "'''rf_random.best_estimator_.fit(X_train, y_train)  # entrenamiento del mejor modelo'''"
   ]
  },
  {
   "cell_type": "code",
   "execution_count": 21,
   "id": "3d52ae8d",
   "metadata": {},
   "outputs": [
    {
     "data": {
      "text/plain": [
       "'rf_random.best_params_'"
      ]
     },
     "execution_count": 21,
     "metadata": {},
     "output_type": "execute_result"
    }
   ],
   "source": [
    "'''rf_random.best_params_'''"
   ]
  },
  {
   "cell_type": "code",
   "execution_count": null,
   "id": "5b6db2fb",
   "metadata": {},
   "outputs": [],
   "source": []
  },
  {
   "cell_type": "markdown",
   "id": "bdb78bdc",
   "metadata": {},
   "source": [
    "## Prediccion del test real para hacer el summit"
   ]
  },
  {
   "cell_type": "code",
   "execution_count": 22,
   "id": "eb6b1538",
   "metadata": {},
   "outputs": [],
   "source": [
    "# Predecir el test real\n",
    "\n",
    "y_pred_test = rfr.predict(rbnb_test_clean)\n",
    "\n"
   ]
  },
  {
   "cell_type": "code",
   "execution_count": 23,
   "id": "909a3688",
   "metadata": {},
   "outputs": [],
   "source": [
    "rbnb_test_id = rbnb_test.id"
   ]
  },
  {
   "cell_type": "code",
   "execution_count": 24,
   "id": "7a1393ec",
   "metadata": {},
   "outputs": [],
   "source": [
    "d = {'price': y_pred_test, 'id': rbnb_test_id}\n",
    "\n",
    "RandomForestRegressor = pd.DataFrame(data=d)"
   ]
  },
  {
   "cell_type": "code",
   "execution_count": 25,
   "id": "b3ae3f90",
   "metadata": {},
   "outputs": [],
   "source": [
    "RandomForestRegressor.to_csv('../data/RandomForestRegressor2.csv', sep=',', index=False)"
   ]
  },
  {
   "cell_type": "code",
   "execution_count": null,
   "id": "246311b1",
   "metadata": {},
   "outputs": [],
   "source": []
  }
 ],
 "metadata": {
  "kernelspec": {
   "display_name": "clase",
   "language": "python",
   "name": "clase"
  },
  "language_info": {
   "codemirror_mode": {
    "name": "ipython",
    "version": 3
   },
   "file_extension": ".py",
   "mimetype": "text/x-python",
   "name": "python",
   "nbconvert_exporter": "python",
   "pygments_lexer": "ipython3",
   "version": "3.9.7"
  }
 },
 "nbformat": 4,
 "nbformat_minor": 5
}
