{
 "cells": [
  {
   "cell_type": "code",
   "execution_count": 1,
   "id": "fb53c336",
   "metadata": {
    "scrolled": false
   },
   "outputs": [],
   "source": [
    "#!pip install ipynb"
   ]
  },
  {
   "cell_type": "code",
   "execution_count": 2,
   "id": "aa7d81a0",
   "metadata": {},
   "outputs": [],
   "source": [
    "import warnings\n",
    "warnings.filterwarnings('ignore')\n",
    "\n",
    "import pandas as pd\n",
    "import numpy as np\n",
    "\n",
    "import pylab as plt\n",
    "import seaborn as sns\n",
    "\n",
    "import re\n",
    "\n",
    "%matplotlib inline\n",
    "\n",
    "pd.set_option('display.max_columns', None)\n",
    "\n",
    "from sklearn.preprocessing import StandardScaler\n",
    "from sklearn.metrics import mean_squared_error as mse  # error cuadratico medio\n",
    "from sklearn.metrics import r2_score as r2"
   ]
  },
  {
   "cell_type": "code",
   "execution_count": 3,
   "id": "d697bb5a",
   "metadata": {},
   "outputs": [],
   "source": [
    "from ipynb.fs.full.my_functions import limpiar_dataset, one_hot_encoding, standarizar, separar_splitear_xy\n"
   ]
  },
  {
   "cell_type": "code",
   "execution_count": 4,
   "id": "d49fcccd",
   "metadata": {},
   "outputs": [],
   "source": [
    "# Cargo los archivo de train y test\n",
    "\n",
    "rbnb = pd.read_csv('../data/train.csv')\n",
    "rbnb_test = pd.read_csv('../data/test.csv')"
   ]
  },
  {
   "cell_type": "markdown",
   "id": "8ae20814",
   "metadata": {},
   "source": [
    "## Arreglo de los datos"
   ]
  },
  {
   "cell_type": "code",
   "execution_count": 5,
   "id": "6c42da78",
   "metadata": {},
   "outputs": [],
   "source": [
    "# Llamo a la función para limpiar\n",
    "\n",
    "rbnb_clean = limpiar_dataset(rbnb)\n",
    "rbnb_test_clean = limpiar_dataset(rbnb_test)"
   ]
  },
  {
   "cell_type": "code",
   "execution_count": 6,
   "id": "d5fe4098",
   "metadata": {},
   "outputs": [],
   "source": [
    "# Llamo a la función para standarizar todos los valores numericos\n",
    "\n",
    "rbnb_clean = standarizar(rbnb_clean)\n",
    "rbnb_test_clean = standarizar(rbnb_test_clean)"
   ]
  },
  {
   "cell_type": "code",
   "execution_count": 7,
   "id": "936a3e65",
   "metadata": {},
   "outputs": [],
   "source": [
    "# Llamo a la función para separar las catergorias en columnas independientes, 'one-hot-encoding'\n",
    "\n",
    "rbnb_clean = one_hot_encoding(rbnb_clean)\n",
    "rbnb_test_clean = one_hot_encoding(rbnb_test_clean)"
   ]
  },
  {
   "cell_type": "markdown",
   "id": "36e577a1",
   "metadata": {},
   "source": [
    "## Entreno el modelo"
   ]
  },
  {
   "cell_type": "code",
   "execution_count": 10,
   "id": "32db1841",
   "metadata": {},
   "outputs": [],
   "source": [
    "# Llamo a la función para separar y splitear X , y\n",
    "\n",
    "X_train, X_test, y_train, y_test = separar_splitear_xy(rbnb_clean)"
   ]
  },
  {
   "cell_type": "code",
   "execution_count": 11,
   "id": "18aaea9c",
   "metadata": {},
   "outputs": [],
   "source": [
    "from sklearn.linear_model import LinearRegression as LinReg"
   ]
  },
  {
   "cell_type": "code",
   "execution_count": 12,
   "id": "f60adb47",
   "metadata": {},
   "outputs": [],
   "source": [
    "linreg=LinReg()\n",
    "linreg.fit(X_train, y_train)\n",
    "\n",
    "y_pred_train=linreg.predict(X_train)\n",
    "y_pred=linreg.predict(X_test)\n"
   ]
  },
  {
   "cell_type": "markdown",
   "id": "8eb7d9ac",
   "metadata": {},
   "source": [
    "## Ajuste del modelo - Hyperparametros"
   ]
  },
  {
   "cell_type": "code",
   "execution_count": 13,
   "id": "03a39773",
   "metadata": {},
   "outputs": [
    {
     "data": {
      "text/plain": [
       "'from sklearn.model_selection import GridSearchCV'"
      ]
     },
     "execution_count": 13,
     "metadata": {},
     "output_type": "execute_result"
    }
   ],
   "source": [
    "'''from sklearn.model_selection import GridSearchCV'''"
   ]
  },
  {
   "cell_type": "code",
   "execution_count": 14,
   "id": "7463564a",
   "metadata": {},
   "outputs": [
    {
     "data": {
      "text/plain": [
       "\"def grid(modelo, param, cv=5):\\n    \\n    grid=GridSearchCV(modelo, param, cv=cv,\\n                      return_train_score=True, n_jobs=-1)\\n    \\n    grid.fit(X_train, y_train)\\n    \\n    print('Acierto test: {:.2f}'.format(grid.score(X_test, y_test)))\\n    print('Acierto train: {:.2f}'.format(grid.score(X_train, y_train)))\\n    print('Mejores parametros: {}'.format(grid.best_params_))\\n    print('Mejor acierto cv: {:.2f}'.format(grid.best_score_))\\n    \\n    return grid.best_estimator_.fit(X_train, y_train)\""
      ]
     },
     "execution_count": 14,
     "metadata": {},
     "output_type": "execute_result"
    }
   ],
   "source": [
    "'''def grid(modelo, param, cv=5):\n",
    "    \n",
    "    grid=GridSearchCV(modelo, param, cv=cv,\n",
    "                      return_train_score=True, n_jobs=-1)\n",
    "    \n",
    "    grid.fit(X_train, y_train)\n",
    "    \n",
    "    print('Acierto test: {:.2f}'.format(grid.score(X_test, y_test)))\n",
    "    print('Acierto train: {:.2f}'.format(grid.score(X_train, y_train)))\n",
    "    print('Mejores parametros: {}'.format(grid.best_params_))\n",
    "    print('Mejor acierto cv: {:.2f}'.format(grid.best_score_))\n",
    "    \n",
    "    return grid.best_estimator_.fit(X_train, y_train)'''"
   ]
  },
  {
   "cell_type": "code",
   "execution_count": 15,
   "id": "c5deb131",
   "metadata": {},
   "outputs": [
    {
     "data": {
      "text/plain": [
       "'linreg=LinReg()\\n\\nlinreg.fit(X_train, y_train)\\n\\ntrain_score=linreg.score(X_train, y_train)    # R2\\ntest_score=linreg.score(X_test, y_test)\\n\\nprint (train_score, test_score)'"
      ]
     },
     "execution_count": 15,
     "metadata": {},
     "output_type": "execute_result"
    }
   ],
   "source": [
    "'''linreg=LinReg()\n",
    "\n",
    "linreg.fit(X_train, y_train)\n",
    "\n",
    "train_score=linreg.score(X_train, y_train)    # R2\n",
    "test_score=linreg.score(X_test, y_test)\n",
    "\n",
    "print (train_score, test_score)'''"
   ]
  },
  {
   "cell_type": "code",
   "execution_count": 16,
   "id": "d80dca65",
   "metadata": {},
   "outputs": [
    {
     "data": {
      "text/plain": [
       "\"param={'fit_intercept': [True, False], 'normalize': [True, False], 'copy_X': [True, False], 'positive': [True, False]}\""
      ]
     },
     "execution_count": 16,
     "metadata": {},
     "output_type": "execute_result"
    }
   ],
   "source": [
    "'''param={'fit_intercept': [True, False], 'normalize': [True, False], 'copy_X': [True, False], 'positive': [True, False]}'''"
   ]
  },
  {
   "cell_type": "code",
   "execution_count": 17,
   "id": "79a91e45",
   "metadata": {},
   "outputs": [
    {
     "data": {
      "text/plain": [
       "'modelo=grid(linreg, param)'"
      ]
     },
     "execution_count": 17,
     "metadata": {},
     "output_type": "execute_result"
    }
   ],
   "source": [
    "'''modelo=grid(linreg, param)'''"
   ]
  },
  {
   "cell_type": "code",
   "execution_count": 18,
   "id": "31f3ecfc",
   "metadata": {},
   "outputs": [
    {
     "data": {
      "text/plain": [
       "'y_pred= modelo.predict(X_test)'"
      ]
     },
     "execution_count": 18,
     "metadata": {},
     "output_type": "execute_result"
    }
   ],
   "source": [
    "'''y_pred= modelo.predict(X_test)'''"
   ]
  },
  {
   "cell_type": "code",
   "execution_count": 19,
   "id": "3e56d9c4",
   "metadata": {},
   "outputs": [
    {
     "name": "stdout",
     "output_type": "stream",
     "text": [
      "175.45636019484112 88.09979124285266\n"
     ]
    }
   ],
   "source": [
    "\n",
    "mse_train = mse(y_train, y_pred_train, squared=False)\n",
    "mse_test = mse(y_test, y_pred, squared=False)\n",
    "\n",
    "print(mse_train, mse_test)"
   ]
  },
  {
   "cell_type": "code",
   "execution_count": 20,
   "id": "d0f66c99",
   "metadata": {},
   "outputs": [
    {
     "name": "stdout",
     "output_type": "stream",
     "text": [
      "0.17752347096348375 0.4225290007460186\n"
     ]
    }
   ],
   "source": [
    "r2_train = r2(y_train, y_pred_train)\n",
    "r2_test = r2(y_test, y_pred)\n",
    "\n",
    "\n",
    "print(r2_train, r2_test)"
   ]
  },
  {
   "cell_type": "markdown",
   "id": "f354e054",
   "metadata": {},
   "source": [
    "## Prediccion del test real para hacer el summit"
   ]
  },
  {
   "cell_type": "code",
   "execution_count": 21,
   "id": "e8029d3c",
   "metadata": {},
   "outputs": [],
   "source": [
    "# Predecir el test real\n",
    "\n",
    "y_pred_test = linreg.predict(rbnb_test_clean)\n"
   ]
  },
  {
   "cell_type": "code",
   "execution_count": 22,
   "id": "172c8e6b",
   "metadata": {},
   "outputs": [],
   "source": [
    "rbnb_test_id = rbnb_test.id"
   ]
  },
  {
   "cell_type": "code",
   "execution_count": 23,
   "id": "97194eee",
   "metadata": {},
   "outputs": [],
   "source": [
    "d = {'price': y_pred_test, 'id': rbnb_test_id}\n",
    "\n",
    "linearregresion = pd.DataFrame(data=d)"
   ]
  },
  {
   "cell_type": "code",
   "execution_count": 24,
   "id": "00ce804c",
   "metadata": {},
   "outputs": [],
   "source": [
    "linearregresion.to_csv('../data/linearregresion2.csv', sep=',', index=False)"
   ]
  },
  {
   "cell_type": "code",
   "execution_count": null,
   "id": "daa88829",
   "metadata": {},
   "outputs": [],
   "source": []
  }
 ],
 "metadata": {
  "kernelspec": {
   "display_name": "clase",
   "language": "python",
   "name": "clase"
  },
  "language_info": {
   "codemirror_mode": {
    "name": "ipython",
    "version": 3
   },
   "file_extension": ".py",
   "mimetype": "text/x-python",
   "name": "python",
   "nbconvert_exporter": "python",
   "pygments_lexer": "ipython3",
   "version": "3.9.7"
  }
 },
 "nbformat": 4,
 "nbformat_minor": 5
}
