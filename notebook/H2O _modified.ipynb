{
 "cells": [
  {
   "cell_type": "code",
   "execution_count": 1,
   "id": "ee00016f",
   "metadata": {},
   "outputs": [],
   "source": [
    "#!pip install h2o"
   ]
  },
  {
   "cell_type": "code",
   "execution_count": 2,
   "id": "3452897f",
   "metadata": {},
   "outputs": [],
   "source": [
    "import warnings\n",
    "warnings.filterwarnings('ignore')\n",
    "\n",
    "import pandas as pd\n",
    "import numpy as np\n",
    "\n",
    "import pylab as plt\n",
    "import seaborn as sns\n",
    "\n",
    "%matplotlib inline\n",
    "\n",
    "pd.set_option('display.max_columns', None)\n",
    "from sklearn.metrics import mean_squared_error as mse"
   ]
  },
  {
   "cell_type": "code",
   "execution_count": 3,
   "id": "326c84d9",
   "metadata": {},
   "outputs": [],
   "source": [
    "rbnb = pd.read_csv('../data/train.csv')\n",
    "rbnb_test = pd.read_csv('../data/test.csv')"
   ]
  },
  {
   "cell_type": "code",
   "execution_count": 4,
   "id": "ea60781a",
   "metadata": {},
   "outputs": [],
   "source": [
    "# Modifico la columna 'bathrooms_text' para extraer de la string el número de baños\n",
    "\n",
    "def extract_bathrooms(x):\n",
    "    try:\n",
    "        return re.findall('\\d+', x)[0]\n",
    "    except:\n",
    "        return 0.5\n",
    "\n",
    "rbnb.bathrooms_text = rbnb.bathrooms_text.apply(extract_bathrooms)\n",
    "rbnb.bathrooms_text = rbnb.bathrooms_text.astype(float)\n",
    "\n",
    "\n",
    "# Modifico la columna 'amenities' para quitarle caracteres.\n",
    "\n",
    "rbnb.amenities = rbnb.amenities.apply(lambda x: x.replace('\"', '').replace('[', '').replace(']', ''))\n",
    "rbnb.amenities = rbnb.amenities.apply(lambda x: x.count(','))"
   ]
  },
  {
   "cell_type": "code",
   "execution_count": 5,
   "id": "cb1fb1bb",
   "metadata": {},
   "outputs": [],
   "source": [
    "# Modifico la columna 'bathrooms_text' para extraer de la string el número de baños\n",
    "\n",
    "def extract_bathrooms(x):\n",
    "    try:\n",
    "        return re.findall('\\d+', x)[0]\n",
    "    except:\n",
    "        return 0.5\n",
    "\n",
    "rbnb_test.bathrooms_text = rbnb_test.bathrooms_text.apply(extract_bathrooms)\n",
    "rbnb_test.bathrooms_text = rbnb_test.bathrooms_text.astype(float)\n",
    "\n",
    "\n",
    "# Modifico la columna 'amenities' para quitarle caracteres.\n",
    "\n",
    "rbnb_test.amenities = rbnb_test.amenities.apply(lambda x: x.replace('\"', '').replace('[', '').replace(']', ''))\n",
    "rbnb_test.amenities = rbnb_test.amenities.apply(lambda x: x.count(','))"
   ]
  },
  {
   "cell_type": "markdown",
   "id": "53444e5d",
   "metadata": {},
   "source": [
    "# H2O"
   ]
  },
  {
   "cell_type": "markdown",
   "id": "190e19a1",
   "metadata": {},
   "source": [
    "## Entreno el modelo"
   ]
  },
  {
   "cell_type": "code",
   "execution_count": 6,
   "id": "72e6d42c",
   "metadata": {},
   "outputs": [
    {
     "data": {
      "text/plain": [
       "'\\nfrom sklearn.model_selection import train_test_split as tts\\n\\n\\ntrain, test = tts(rbnb, test_size=.2, random_state=42)\\n\\ntrain.shape, test.shape'"
      ]
     },
     "execution_count": 6,
     "metadata": {},
     "output_type": "execute_result"
    }
   ],
   "source": [
    "'''\n",
    "from sklearn.model_selection import train_test_split as tts\n",
    "\n",
    "\n",
    "train, test = tts(rbnb, test_size=.2, random_state=42)\n",
    "\n",
    "train.shape, test.shape'''"
   ]
  },
  {
   "cell_type": "code",
   "execution_count": 7,
   "id": "18723652",
   "metadata": {},
   "outputs": [],
   "source": [
    "import h2o\n",
    "from h2o.automl import H2OAutoML"
   ]
  },
  {
   "cell_type": "code",
   "execution_count": 8,
   "id": "d683c2ae",
   "metadata": {},
   "outputs": [
    {
     "name": "stdout",
     "output_type": "stream",
     "text": [
      "Checking whether there is an H2O instance running at http://localhost:54321 . connected.\n"
     ]
    },
    {
     "data": {
      "text/html": [
       "<div style=\"overflow:auto\"><table style=\"width:50%\"><tr><td>H2O_cluster_uptime:</td>\n",
       "<td>49 mins 31 secs</td></tr>\n",
       "<tr><td>H2O_cluster_timezone:</td>\n",
       "<td>Europe/Madrid</td></tr>\n",
       "<tr><td>H2O_data_parsing_timezone:</td>\n",
       "<td>UTC</td></tr>\n",
       "<tr><td>H2O_cluster_version:</td>\n",
       "<td>3.36.1.1</td></tr>\n",
       "<tr><td>H2O_cluster_version_age:</td>\n",
       "<td>25 days </td></tr>\n",
       "<tr><td>H2O_cluster_name:</td>\n",
       "<td>H2O_from_python_usuario_e7m3js</td></tr>\n",
       "<tr><td>H2O_cluster_total_nodes:</td>\n",
       "<td>1</td></tr>\n",
       "<tr><td>H2O_cluster_free_memory:</td>\n",
       "<td>2.705 Gb</td></tr>\n",
       "<tr><td>H2O_cluster_total_cores:</td>\n",
       "<td>8</td></tr>\n",
       "<tr><td>H2O_cluster_allowed_cores:</td>\n",
       "<td>8</td></tr>\n",
       "<tr><td>H2O_cluster_status:</td>\n",
       "<td>locked, healthy</td></tr>\n",
       "<tr><td>H2O_connection_url:</td>\n",
       "<td>http://localhost:54321</td></tr>\n",
       "<tr><td>H2O_connection_proxy:</td>\n",
       "<td>{\"http\": null, \"https\": null}</td></tr>\n",
       "<tr><td>H2O_internal_security:</td>\n",
       "<td>False</td></tr>\n",
       "<tr><td>Python_version:</td>\n",
       "<td>3.9.7 final</td></tr></table></div>"
      ],
      "text/plain": [
       "--------------------------  ------------------------------\n",
       "H2O_cluster_uptime:         49 mins 31 secs\n",
       "H2O_cluster_timezone:       Europe/Madrid\n",
       "H2O_data_parsing_timezone:  UTC\n",
       "H2O_cluster_version:        3.36.1.1\n",
       "H2O_cluster_version_age:    25 days\n",
       "H2O_cluster_name:           H2O_from_python_usuario_e7m3js\n",
       "H2O_cluster_total_nodes:    1\n",
       "H2O_cluster_free_memory:    2.705 Gb\n",
       "H2O_cluster_total_cores:    8\n",
       "H2O_cluster_allowed_cores:  8\n",
       "H2O_cluster_status:         locked, healthy\n",
       "H2O_connection_url:         http://localhost:54321\n",
       "H2O_connection_proxy:       {\"http\": null, \"https\": null}\n",
       "H2O_internal_security:      False\n",
       "Python_version:             3.9.7 final\n",
       "--------------------------  ------------------------------"
      ]
     },
     "metadata": {},
     "output_type": "display_data"
    }
   ],
   "source": [
    "# inicializamos el modelo h2o\n",
    "\n",
    "h2o.init()"
   ]
  },
  {
   "cell_type": "code",
   "execution_count": 9,
   "id": "58392766",
   "metadata": {},
   "outputs": [
    {
     "name": "stdout",
     "output_type": "stream",
     "text": [
      "Parse progress: |████████████████████████████████████████████████████████████████| (done) 100%\n",
      "Parse progress: |████████████████████████████████████████████████████████████████| (done) 100%\n"
     ]
    }
   ],
   "source": [
    "h2train=h2o.H2OFrame(rbnb)\n",
    "h2test=h2o.H2OFrame(rbnb_test)"
   ]
  },
  {
   "cell_type": "code",
   "execution_count": 10,
   "id": "41536b88",
   "metadata": {},
   "outputs": [],
   "source": [
    "X=[c for c in h2train.columns if c!='price']\n",
    "\n",
    "y='price'"
   ]
  },
  {
   "cell_type": "code",
   "execution_count": 11,
   "id": "8de3867d",
   "metadata": {},
   "outputs": [],
   "source": [
    "# inicia auto-machine-learning\n",
    "\n",
    "automl=H2OAutoML(max_models=500,\n",
    "                 seed=42,   # random_state\n",
    "                 max_runtime_secs=10000,\n",
    "                 sort_metric='RMSE')"
   ]
  },
  {
   "cell_type": "code",
   "execution_count": null,
   "id": "72d95a0e",
   "metadata": {},
   "outputs": [
    {
     "name": "stdout",
     "output_type": "stream",
     "text": [
      "AutoML progress: |█\n",
      "20:38:06.930: AutoML: XGBoost is not available; skipping it.\n",
      "20:38:06.933: _train param, Dropping bad and constant columns: [picture_url, neighbourhood_group_cleansed, calendar_updated, listing_url, name, description, bathrooms_text, bathrooms, scrape_id]\n",
      "\n",
      "███\n",
      "20:38:15.902: _train param, Dropping bad and constant columns: [picture_url, neighbourhood_group_cleansed, calendar_updated, listing_url, name, description, bathrooms_text, bathrooms, scrape_id]\n",
      "20:38:21.405: _train param, Dropping bad and constant columns: [picture_url, neighbourhood_group_cleansed, calendar_updated, listing_url, name, description, bathrooms_text, bathrooms, scrape_id]\n",
      "\n",
      "█████\n",
      "20:39:29.502: _train param, Dropping bad and constant columns: [picture_url, neighbourhood_group_cleansed, calendar_updated, listing_url, name, description, bathrooms_text, bathrooms, scrape_id]\n",
      "\n",
      "█\n",
      "20:39:45.134: _train param, Dropping bad and constant columns: [picture_url, neighbourhood_group_cleansed, calendar_updated, listing_url, name, description, bathrooms_text, bathrooms, scrape_id]\n",
      "\n",
      "█\n",
      "20:40:01.883: _train param, Dropping bad and constant columns: [picture_url, neighbourhood_group_cleansed, calendar_updated, listing_url, name, description, bathrooms_text, bathrooms, scrape_id]\n",
      "\n",
      "██\n",
      "20:40:20.884: _train param, Dropping bad and constant columns: [picture_url, neighbourhood_group_cleansed, calendar_updated, listing_url, name, description, bathrooms_text, bathrooms, scrape_id]\n",
      "\n",
      "████\n",
      "20:42:04.146: _train param, Dropping bad and constant columns: [picture_url, neighbourhood_group_cleansed, calendar_updated, listing_url, name, description, bathrooms_text, bathrooms, scrape_id]\n",
      "20:42:09.941: _train param, Dropping bad and constant columns: [picture_url, neighbourhood_group_cleansed, calendar_updated, listing_url, name, description, bathrooms_text, bathrooms, scrape_id]\n",
      "\n",
      "████████████████████████████████████████████"
     ]
    }
   ],
   "source": [
    "# entrena\n",
    "\n",
    "automl.train(x=X,\n",
    "             y=y,\n",
    "             training_frame=h2train)"
   ]
  },
  {
   "cell_type": "code",
   "execution_count": null,
   "id": "2e2e146c",
   "metadata": {},
   "outputs": [],
   "source": [
    "print('[INFO] Leader board:')\n",
    "\n",
    "leader_board=automl.leaderboard\n",
    "\n",
    "leader_board.head()"
   ]
  },
  {
   "cell_type": "code",
   "execution_count": null,
   "id": "25bdcf76",
   "metadata": {},
   "outputs": [],
   "source": [
    "H20_1 = automl.leader"
   ]
  },
  {
   "cell_type": "code",
   "execution_count": null,
   "id": "073762af",
   "metadata": {},
   "outputs": [],
   "source": [
    "# prediciones del lider\n",
    "\n",
    "y_pred=automl.leader.predict(h2test)"
   ]
  },
  {
   "cell_type": "code",
   "execution_count": null,
   "id": "8024282d",
   "metadata": {},
   "outputs": [],
   "source": [
    "# Para testear la precisión de mi modelo\n",
    "\n",
    "'''from sklearn.metrics import accuracy_score\n",
    "\n",
    "accuracy_score(y_test, y_pred_test)'''"
   ]
  },
  {
   "cell_type": "markdown",
   "id": "3c5740d8",
   "metadata": {},
   "source": [
    "## Prediccion del test real para hacer el summit"
   ]
  },
  {
   "cell_type": "code",
   "execution_count": null,
   "id": "639a31c5",
   "metadata": {},
   "outputs": [],
   "source": [
    "# Predicción del test con el modelo leader\n",
    "\n",
    "y_pred_test = automl.leader.predict(h2test)"
   ]
  },
  {
   "cell_type": "code",
   "execution_count": null,
   "id": "b74da0cd",
   "metadata": {},
   "outputs": [],
   "source": [
    "submission = h2o.as_list(y_pred_test)"
   ]
  },
  {
   "cell_type": "code",
   "execution_count": null,
   "id": "6972776d",
   "metadata": {},
   "outputs": [],
   "source": [
    "rbnb_test_y = rbnb_test.id"
   ]
  },
  {
   "cell_type": "code",
   "execution_count": null,
   "id": "eb28a4a4",
   "metadata": {},
   "outputs": [],
   "source": [
    "submission['id'] = rbnb_test_y"
   ]
  },
  {
   "cell_type": "code",
   "execution_count": null,
   "id": "d5d32822",
   "metadata": {},
   "outputs": [],
   "source": [
    "submission = submission.rename(columns={'predict': 'price'})"
   ]
  },
  {
   "cell_type": "code",
   "execution_count": null,
   "id": "2b5ccca2",
   "metadata": {
    "scrolled": true
   },
   "outputs": [],
   "source": [
    "submission.to_csv('../data/H2O_max.csv', sep=',', index=False)"
   ]
  },
  {
   "cell_type": "code",
   "execution_count": null,
   "id": "26e61f3c",
   "metadata": {},
   "outputs": [],
   "source": [
    "y_pred = h2o.as_list(y_pred)\n",
    "\n"
   ]
  },
  {
   "cell_type": "code",
   "execution_count": null,
   "id": "b65f378c",
   "metadata": {},
   "outputs": [],
   "source": [
    "mse(test.price, y_pred.predict, squared=False)"
   ]
  },
  {
   "cell_type": "code",
   "execution_count": null,
   "id": "42d89740",
   "metadata": {},
   "outputs": [],
   "source": []
  }
 ],
 "metadata": {
  "kernelspec": {
   "display_name": "clase",
   "language": "python",
   "name": "clase"
  },
  "language_info": {
   "codemirror_mode": {
    "name": "ipython",
    "version": 3
   },
   "file_extension": ".py",
   "mimetype": "text/x-python",
   "name": "python",
   "nbconvert_exporter": "python",
   "pygments_lexer": "ipython3",
   "version": "3.9.7"
  }
 },
 "nbformat": 4,
 "nbformat_minor": 5
}
