{
 "cells": [
  {
   "cell_type": "code",
   "execution_count": 1,
   "id": "a61580cc",
   "metadata": {
    "scrolled": false
   },
   "outputs": [],
   "source": [
    "#!pip install ipynb"
   ]
  },
  {
   "cell_type": "code",
   "execution_count": 2,
   "id": "09fba059",
   "metadata": {},
   "outputs": [],
   "source": [
    "import warnings\n",
    "warnings.filterwarnings('ignore')\n",
    "\n",
    "import pandas as pd\n",
    "import numpy as np\n",
    "\n",
    "import pylab as plt\n",
    "import seaborn as sns\n",
    "\n",
    "import re\n",
    "\n",
    "%matplotlib inline\n",
    "\n",
    "pd.set_option('display.max_columns', None)\n",
    "\n",
    "from sklearn.preprocessing import StandardScaler\n",
    "from sklearn.metrics import mean_squared_error as mse  # error cuadratico medio\n",
    "from sklearn.metrics import r2_score as r2"
   ]
  },
  {
   "cell_type": "code",
   "execution_count": 3,
   "id": "50fbb02c",
   "metadata": {},
   "outputs": [],
   "source": [
    "from ipynb.fs.full.my_functions import limpiar_dataset, one_hot_encoding, standarizar, separar_splitear_xy\n"
   ]
  },
  {
   "cell_type": "code",
   "execution_count": 4,
   "id": "82f2627a",
   "metadata": {},
   "outputs": [],
   "source": [
    "# Cargo los archivo de train y test\n",
    "\n",
    "rbnb = pd.read_csv('../data/train.csv')\n",
    "rbnb_test = pd.read_csv('../data/test.csv')"
   ]
  },
  {
   "cell_type": "markdown",
   "id": "d06865c9",
   "metadata": {},
   "source": [
    "## Arreglo de los datos"
   ]
  },
  {
   "cell_type": "code",
   "execution_count": 5,
   "id": "c5137cad",
   "metadata": {},
   "outputs": [],
   "source": [
    "# Llamo a la función para limpiar\n",
    "\n",
    "rbnb_clean = limpiar_dataset(rbnb)\n",
    "rbnb_test_clean = limpiar_dataset(rbnb_test)"
   ]
  },
  {
   "cell_type": "code",
   "execution_count": 6,
   "id": "249d0f28",
   "metadata": {},
   "outputs": [],
   "source": [
    "# Llamo a la función para separar las catergorias en columnas independientes\n",
    "\n",
    "rbnb_clean = one_hot_encoding(rbnb_clean)\n",
    "rbnb_test_clean = one_hot_encoding(rbnb_test_clean)"
   ]
  },
  {
   "cell_type": "code",
   "execution_count": 7,
   "id": "061a5336",
   "metadata": {},
   "outputs": [],
   "source": [
    "# Llamo a la función para standarizar varias columnas\n",
    "\n",
    "rbnb_clean = standarizar(rbnb_clean)\n",
    "rbnb_test_clean = standarizar(rbnb_test_clean)"
   ]
  },
  {
   "cell_type": "markdown",
   "id": "068b6e32",
   "metadata": {},
   "source": [
    "## Entreno de modelo"
   ]
  },
  {
   "cell_type": "code",
   "execution_count": 8,
   "id": "a6a67d81",
   "metadata": {},
   "outputs": [],
   "source": [
    "# Llamo a la función para separar y splitear X , y\n",
    "\n",
    "X_train, X_test, y_train, y_test = separar_splitear_xy(rbnb_clean)\n"
   ]
  },
  {
   "cell_type": "code",
   "execution_count": 9,
   "id": "8f06e41b",
   "metadata": {},
   "outputs": [],
   "source": [
    "from sklearn.linear_model import Lasso"
   ]
  },
  {
   "cell_type": "code",
   "execution_count": 10,
   "id": "3aaf9e39",
   "metadata": {},
   "outputs": [],
   "source": [
    "lasso=Lasso()\n",
    "lasso.fit(X_train, y_train)\n",
    "\n",
    "y_pred_train=lasso.predict(X_train)\n",
    "y_pred=lasso.predict(X_test)\n"
   ]
  },
  {
   "cell_type": "code",
   "execution_count": 11,
   "id": "c95de39f",
   "metadata": {},
   "outputs": [
    {
     "name": "stdout",
     "output_type": "stream",
     "text": [
      "176.42038170506115 87.71818052412814\n"
     ]
    }
   ],
   "source": [
    "\n",
    "mse_train = mse(y_train, y_pred_train, squared=False)\n",
    "mse_test = mse(y_test, y_pred, squared=False)\n",
    "\n",
    "print(mse_train, mse_test)"
   ]
  },
  {
   "cell_type": "code",
   "execution_count": 12,
   "id": "85a1033b",
   "metadata": {},
   "outputs": [
    {
     "name": "stdout",
     "output_type": "stream",
     "text": [
      "0.16846066736666565 0.4275208820533841\n"
     ]
    }
   ],
   "source": [
    "r2_train = r2(y_train, y_pred_train)\n",
    "r2_test = r2(y_test, y_pred)\n",
    "\n",
    "\n",
    "print(r2_train, r2_test)"
   ]
  },
  {
   "cell_type": "markdown",
   "id": "bdb78bdc",
   "metadata": {},
   "source": [
    "## Prediccion del test real para hacer el summit"
   ]
  },
  {
   "cell_type": "code",
   "execution_count": 14,
   "id": "eb6b1538",
   "metadata": {},
   "outputs": [],
   "source": [
    "# Predecir el test real\n",
    "\n",
    "y_pred_test = lasso.predict(rbnb_test_clean)\n",
    "\n"
   ]
  },
  {
   "cell_type": "code",
   "execution_count": 15,
   "id": "909a3688",
   "metadata": {},
   "outputs": [],
   "source": [
    "rbnb_test_id = rbnb_test.id"
   ]
  },
  {
   "cell_type": "code",
   "execution_count": 16,
   "id": "7a1393ec",
   "metadata": {},
   "outputs": [],
   "source": [
    "d = {'price': y_pred_test, 'id': rbnb_test_id}\n",
    "\n",
    "Lasso = pd.DataFrame(data=d)"
   ]
  },
  {
   "cell_type": "code",
   "execution_count": 17,
   "id": "b3ae3f90",
   "metadata": {},
   "outputs": [],
   "source": [
    "Lasso.to_csv('../data/Lasso.csv', sep=',', index=False)"
   ]
  },
  {
   "cell_type": "code",
   "execution_count": null,
   "id": "246311b1",
   "metadata": {},
   "outputs": [],
   "source": []
  }
 ],
 "metadata": {
  "kernelspec": {
   "display_name": "clase",
   "language": "python",
   "name": "clase"
  },
  "language_info": {
   "codemirror_mode": {
    "name": "ipython",
    "version": 3
   },
   "file_extension": ".py",
   "mimetype": "text/x-python",
   "name": "python",
   "nbconvert_exporter": "python",
   "pygments_lexer": "ipython3",
   "version": "3.9.7"
  }
 },
 "nbformat": 4,
 "nbformat_minor": 5
}
